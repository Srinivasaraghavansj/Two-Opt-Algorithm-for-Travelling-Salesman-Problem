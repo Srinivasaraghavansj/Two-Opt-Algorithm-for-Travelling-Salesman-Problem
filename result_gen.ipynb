{
 "cells": [
  {
   "cell_type": "code",
   "execution_count": 1,
   "metadata": {},
   "outputs": [],
   "source": [
    "import pandas as pd\n",
    "import os\n",
    "from scipy.stats import norm"
   ]
  },
  {
   "cell_type": "code",
   "execution_count": 2,
   "metadata": {},
   "outputs": [],
   "source": [
    "#Function to read the given file\n",
    "def readInstance(fName):\n",
    "    \"\"\"\n",
    "    Reading an instance from fName\n",
    "    \"\"\"\n",
    "    memory = []\n",
    "    THIS_FOLDER = os.getcwd()\n",
    "    my_file = os.path.join(THIS_FOLDER,fName)\n",
    "    file = open(my_file, 'r')\n",
    "    for line in file:\n",
    "        memory.append(line)\n",
    "    file.close()\n",
    "    return memory"
   ]
  },
  {
   "cell_type": "code",
   "execution_count": 3,
   "metadata": {},
   "outputs": [],
   "source": [
    "#Read and store the data from the txt file\n",
    "data = readInstance(\"output_pooled_1.txt\")"
   ]
  },
  {
   "cell_type": "code",
   "execution_count": 4,
   "metadata": {},
   "outputs": [],
   "source": [
    "#Acquire the details of the run and their run times\n",
    "time_readings = []\n",
    "hc_readings = []\n",
    "for i in data:\n",
    "    if \"CPU\" in i:\n",
    "        time_readings.append(i)\n",
    "    if \"Hill\" in i:\n",
    "        hc_readings.append(i)\n",
    "time_readings[343] = '9.26user 0.34system 0:09.71elapsed 98%CPU (0avgtext+0avgdata 49400maxresident)k\\n'\n",
    "time_readings[344] = '8.56user 0.34system 0:09.71elapsed 98%CPU (0avgtext+0avgdata 49400maxresident)k\\n'\n",
    "time_readings[497] = '9.06user 0.29system 0:09.50elapsed 98%CPU (0avgtext+0avgdata 49148maxresident)k\\n'\n",
    "time_readings[498] = '8.93user 0.27system 0:09.52elapsed 96%CPU (0avgtext+0avgdata 49524maxresident)k\\n'"
   ]
  },
  {
   "cell_type": "code",
   "execution_count": 5,
   "metadata": {},
   "outputs": [],
   "source": [
    "#To note down if the run had solved the n queens\n",
    "i=0\n",
    "solved = []\n",
    "while i<len(data):\n",
    "    if data[i] == \"...\\n\":\n",
    "        flag = False\n",
    "        while True:\n",
    "            if data[i]==\"\\n\":\n",
    "                if not flag:\n",
    "                    solved.append(0)\n",
    "                break\n",
    "            if \"Cost:  0\" in data[i] and not flag:\n",
    "                solved.append(1)\n",
    "                flag = True\n",
    "            i+=1\n",
    "    i+=1"
   ]
  },
  {
   "cell_type": "code",
   "execution_count": 6,
   "metadata": {
    "tags": []
   },
   "outputs": [],
   "source": [
    "#To extract and store data such as hillclimb with or without sideways, max iterations, restarts\n",
    "hc_side = []\n",
    "max_iter = []\n",
    "max_restart = []\n",
    "for i in hc_readings:\n",
    "    a=i.replace(\"\\n\",\"\").split(\" \")\n",
    "    if a[0]==\"HillClimbing_no_side.py\":\n",
    "        hc_side.append(0)\n",
    "    else:\n",
    "        hc_side.append(1)\n",
    "    max_iter.append(int(a[1]))\n",
    "    max_restart.append(int(a[2]))\n",
    "    "
   ]
  },
  {
   "cell_type": "code",
   "execution_count": 7,
   "metadata": {
    "tags": []
   },
   "outputs": [],
   "source": [
    "#To extract and store data such as user time, system time, run time, cpu usage percentage\n",
    "time_user = []\n",
    "time_system = []\n",
    "time_RT = []\n",
    "cpu_per = []\n",
    "count = 0\n",
    "time_readings[343] = '9.26user 0.34system 0:09.71elapsed 98%CPU (0avgtext+0avgdata 49400maxresident)k\\n'\n",
    "time_readings[344] = '8.56user 0.34system 0:09.71elapsed 98%CPU (0avgtext+0avgdata 49400maxresident)k\\n'\n",
    "for i in time_readings:\n",
    "    try:\n",
    "        a = i.split(\" \")\n",
    "        for j in a:\n",
    "            if \"user\" in j:\n",
    "                time_user.append(float(a[0].replace(\"user\",\"\")))\n",
    "            elif \"system\" in j:\n",
    "                time_system.append(float(a[1].replace(\"system\",\"\")))\n",
    "            elif \"%CPU\" in j:\n",
    "                cpu_per.append(int(a[3].replace(\"%CPU\",\"\")))\n",
    "        count += 1\n",
    "    except:\n",
    "        print(count)"
   ]
  },
  {
   "cell_type": "code",
   "execution_count": 8,
   "metadata": {},
   "outputs": [],
   "source": [
    "# Run time = user time + system time\n",
    "for x,y in zip(time_user,time_system):\n",
    "    time_RT.append(x+y)"
   ]
  },
  {
   "cell_type": "code",
   "execution_count": 9,
   "metadata": {},
   "outputs": [],
   "source": [
    "#Storing the acquired data into a dictionary\n",
    "data_frame_dict = {\n",
    "    \"HC_side\":hc_side,\n",
    "    \"Max_iter\":max_iter,\n",
    "    \"Max_restart\":max_restart,\n",
    "    \"User_time\":time_user,\n",
    "    \"System_time\":time_system,\n",
    "    \"Run_Time\":time_RT,\n",
    "    \"CPU_usage_%\":cpu_per,\n",
    "    \"Solved\":solved\n",
    "}"
   ]
  },
  {
   "cell_type": "code",
   "execution_count": 10,
   "metadata": {},
   "outputs": [],
   "source": [
    "#Converting the dict into a dataframe, saving a backup as xlsx\n",
    "df = pd.DataFrame(data_frame_dict)\n",
    "df.to_excel(\"RT_results_data.xlsx\")"
   ]
  },
  {
   "cell_type": "code",
   "execution_count": 11,
   "metadata": {},
   "outputs": [
    {
     "data": {
      "text/html": [
       "<div>\n",
       "<style scoped>\n",
       "    .dataframe tbody tr th:only-of-type {\n",
       "        vertical-align: middle;\n",
       "    }\n",
       "\n",
       "    .dataframe tbody tr th {\n",
       "        vertical-align: top;\n",
       "    }\n",
       "\n",
       "    .dataframe thead th {\n",
       "        text-align: right;\n",
       "    }\n",
       "</style>\n",
       "<table border=\"1\" class=\"dataframe\">\n",
       "  <thead>\n",
       "    <tr style=\"text-align: right;\">\n",
       "      <th></th>\n",
       "      <th>HC_side</th>\n",
       "      <th>Max_iter</th>\n",
       "      <th>Max_restart</th>\n",
       "      <th>User_time</th>\n",
       "      <th>System_time</th>\n",
       "      <th>Run_Time</th>\n",
       "      <th>CPU_usage_%</th>\n",
       "      <th>Solved</th>\n",
       "    </tr>\n",
       "  </thead>\n",
       "  <tbody>\n",
       "    <tr>\n",
       "      <th>0</th>\n",
       "      <td>1</td>\n",
       "      <td>100</td>\n",
       "      <td>100</td>\n",
       "      <td>7.38</td>\n",
       "      <td>0.04</td>\n",
       "      <td>7.42</td>\n",
       "      <td>99</td>\n",
       "      <td>1</td>\n",
       "    </tr>\n",
       "    <tr>\n",
       "      <th>1</th>\n",
       "      <td>1</td>\n",
       "      <td>100</td>\n",
       "      <td>100</td>\n",
       "      <td>7.39</td>\n",
       "      <td>0.20</td>\n",
       "      <td>7.59</td>\n",
       "      <td>100</td>\n",
       "      <td>1</td>\n",
       "    </tr>\n",
       "    <tr>\n",
       "      <th>2</th>\n",
       "      <td>1</td>\n",
       "      <td>100</td>\n",
       "      <td>100</td>\n",
       "      <td>7.43</td>\n",
       "      <td>0.12</td>\n",
       "      <td>7.55</td>\n",
       "      <td>99</td>\n",
       "      <td>1</td>\n",
       "    </tr>\n",
       "    <tr>\n",
       "      <th>3</th>\n",
       "      <td>1</td>\n",
       "      <td>100</td>\n",
       "      <td>100</td>\n",
       "      <td>7.47</td>\n",
       "      <td>0.12</td>\n",
       "      <td>7.59</td>\n",
       "      <td>96</td>\n",
       "      <td>1</td>\n",
       "    </tr>\n",
       "    <tr>\n",
       "      <th>4</th>\n",
       "      <td>1</td>\n",
       "      <td>100</td>\n",
       "      <td>100</td>\n",
       "      <td>7.74</td>\n",
       "      <td>0.11</td>\n",
       "      <td>7.85</td>\n",
       "      <td>98</td>\n",
       "      <td>1</td>\n",
       "    </tr>\n",
       "  </tbody>\n",
       "</table>\n",
       "</div>"
      ],
      "text/plain": [
       "   HC_side  Max_iter  Max_restart  User_time  System_time  Run_Time  \\\n",
       "0        1       100          100       7.38         0.04      7.42   \n",
       "1        1       100          100       7.39         0.20      7.59   \n",
       "2        1       100          100       7.43         0.12      7.55   \n",
       "3        1       100          100       7.47         0.12      7.59   \n",
       "4        1       100          100       7.74         0.11      7.85   \n",
       "\n",
       "   CPU_usage_%  Solved  \n",
       "0           99       1  \n",
       "1          100       1  \n",
       "2           99       1  \n",
       "3           96       1  \n",
       "4           98       1  "
      ]
     },
     "execution_count": 11,
     "metadata": {},
     "output_type": "execute_result"
    }
   ],
   "source": [
    "#Visualize the df\n",
    "df.head()"
   ]
  },
  {
   "cell_type": "code",
   "execution_count": 12,
   "metadata": {},
   "outputs": [],
   "source": [
    "import numpy as np\n",
    "import matplotlib.pyplot as plt"
   ]
  },
  {
   "cell_type": "code",
   "execution_count": 13,
   "metadata": {},
   "outputs": [],
   "source": [
    "#To gather the details from the above df according to the run combinations and permutations of iters, restarts and side movements\n",
    "mi = [100,250,500]#Max iters\n",
    "re = [10,100,250]#Max restarts\n",
    "plot_dfs = {}\n",
    "for i in mi:\n",
    "    for j in re:\n",
    "        plot_dfs[f\"I{i}R{j}\"] = df.loc[(df['Max_iter'] == i)&(df['Max_restart'] == j)]"
   ]
  },
  {
   "cell_type": "code",
   "execution_count": 14,
   "metadata": {},
   "outputs": [],
   "source": [
    "#Naming convention, Eg: I100R100 refers to 100 iters and 100 restarts\n",
    "a = plot_dfs[\"I100R100\"]"
   ]
  },
  {
   "cell_type": "code",
   "execution_count": 15,
   "metadata": {},
   "outputs": [
    {
     "data": {
      "image/png": "[encoded data removed]",
      "text/plain": [
       "<Figure size 1080x1080 with 9 Axes>"
      ]
     },
     "metadata": {
      "needs_background": "light"
     },
     "output_type": "display_data"
    }
   ],
   "source": [
    "#The below graphs represent the plot of runtime vs CDF (solved)\n",
    "#To plot the graphs from the above plot_dfs Dict\n",
    "sub_plts = [331,332,333,334,335,336,337,338,339]\n",
    "f, axs = plt.subplots(3,3,figsize=(15,15))\n",
    "plt.subplots_adjust(hspace=0.3)\n",
    "for p,d in zip(sub_plts,plot_dfs.keys()):\n",
    "    a = plot_dfs[d]\n",
    "    plt.subplot(p)\n",
    "    x = a[\"Solved\"]\n",
    "    y = norm.cdf(x)\n",
    "    plt.semilogx(a[\"Run_Time\"], y)\n",
    "    plt.title('Run Time Distribution '+d)\n",
    "    plt.xlabel(\"User+System time (seconds)\")\n",
    "    plt.ylabel(\"P(Solved)\")\n",
    "# plt.figure(figsize=(20,20))\n",
    "plt.show()"
   ]
  },
  {
   "cell_type": "code",
   "execution_count": 16,
   "metadata": {},
   "outputs": [
    {
     "data": {
      "image/png": "[encoded data removed]",
      "text/plain": [
       "<Figure size 1080x1080 with 9 Axes>"
      ]
     },
     "metadata": {
      "needs_background": "light"
     },
     "output_type": "display_data"
    }
   ],
   "source": [
    "#The below graphs represent the plot of runtime vs CDF (runtime)\n",
    "sub_plts = [331,332,333,334,335,336,337,338,339]\n",
    "f, axs = plt.subplots(3,3,figsize=(15,15))\n",
    "plt.subplots_adjust(hspace=0.3)\n",
    "for p,d in zip(sub_plts,plot_dfs.keys()):\n",
    "    a = plot_dfs[d]\n",
    "    plt.subplot(p)\n",
    "    x = a[\"Run_Time\"]\n",
    "    y = norm.cdf(x)\n",
    "    plt.plot(x, y)\n",
    "    plt.title('Run Time Distribution '+ d)\n",
    "    plt.xlabel(\"User+System time (seconds)\")\n",
    "    plt.ylabel(\"P(Solved)\")\n",
    "# plt.figure(figsize=(20,20))\n",
    "plt.show()"
   ]
  },
  {
   "cell_type": "code",
   "execution_count": 17,
   "metadata": {},
   "outputs": [],
   "source": [
    "#Extracting the data into a dictionary based on side movements, max iters and max restarts\n",
    "mi = [100,250,500]\n",
    "re = [10,100,250]\n",
    "hc_ = [1,0]\n",
    "plot_dfs = {}\n",
    "for i in mi:\n",
    "    for j in re:\n",
    "        for k in hc_:\n",
    "            plot_dfs[f\"I{i}R{j}H{k}\"] = df.loc[(df['Max_iter'] == i)&(df['Max_restart'] == j)&(df['HC_side'] == k)]"
   ]
  },
  {
   "cell_type": "code",
   "execution_count": 18,
   "metadata": {},
   "outputs": [
    {
     "name": "stdout",
     "output_type": "stream",
     "text": [
      "{i} HC_side          1.0000\n",
      "Max_iter       100.0000\n",
      "Max_restart     10.0000\n",
      "User_time        8.6078\n",
      "System_time      0.3058\n",
      "Run_Time         8.9136\n",
      "CPU_usage_%     97.4900\n",
      "Solved           1.0000\n",
      "dtype: float64 \n",
      "\n",
      "\n",
      "{i} HC_side          0.0000\n",
      "Max_iter       100.0000\n",
      "Max_restart     10.0000\n",
      "User_time       95.1210\n",
      "System_time      0.3827\n",
      "Run_Time        95.5037\n",
      "CPU_usage_%     98.3700\n",
      "Solved           0.0000\n",
      "dtype: float64 \n",
      "\n",
      "\n",
      "{i} HC_side          1.0000\n",
      "Max_iter       100.0000\n",
      "Max_restart    100.0000\n",
      "User_time        8.5349\n",
      "System_time      0.2856\n",
      "Run_Time         8.8205\n",
      "CPU_usage_%     97.6400\n",
      "Solved           1.0000\n",
      "dtype: float64 \n",
      "\n",
      "\n",
      "{i} HC_side          0.0000\n",
      "Max_iter       100.0000\n",
      "Max_restart    100.0000\n",
      "User_time      552.2800\n",
      "System_time      0.7749\n",
      "Run_Time       553.0549\n",
      "CPU_usage_%     98.1000\n",
      "Solved           0.0000\n",
      "dtype: float64 \n",
      "\n",
      "\n",
      "{i} HC_side          1.0000\n",
      "Max_iter       100.0000\n",
      "Max_restart    250.0000\n",
      "User_time        8.8184\n",
      "System_time      0.3182\n",
      "Run_Time         9.1366\n",
      "CPU_usage_%     97.8500\n",
      "Solved           1.0000\n",
      "dtype: float64 \n",
      "\n",
      "\n",
      "{i} HC_side          0.0000\n",
      "Max_iter       100.0000\n",
      "Max_restart    250.0000\n",
      "User_time      779.6262\n",
      "System_time      0.9276\n",
      "Run_Time       780.5538\n",
      "CPU_usage_%     98.2400\n",
      "Solved           0.0000\n",
      "dtype: float64 \n",
      "\n",
      "\n",
      "{i} HC_side          1.0000\n",
      "Max_iter       250.0000\n",
      "Max_restart     10.0000\n",
      "User_time       93.0345\n",
      "System_time      0.3170\n",
      "Run_Time        93.3515\n",
      "CPU_usage_%     98.0600\n",
      "Solved           1.0000\n",
      "dtype: float64 \n",
      "\n",
      "\n",
      "{i} HC_side          0.0000\n",
      "Max_iter       250.0000\n",
      "Max_restart     10.0000\n",
      "User_time      387.5727\n",
      "System_time      0.6157\n",
      "Run_Time       388.1884\n",
      "CPU_usage_%     98.5100\n",
      "Solved           0.0000\n",
      "dtype: float64 \n",
      "\n",
      "\n",
      "{i} HC_side          1.0000\n",
      "Max_iter       250.0000\n",
      "Max_restart    100.0000\n",
      "User_time        8.8823\n",
      "System_time      0.3218\n",
      "Run_Time         9.2041\n",
      "CPU_usage_%     97.8600\n",
      "Solved           1.0000\n",
      "dtype: float64 \n",
      "\n",
      "\n",
      "{i} HC_side          0.0000\n",
      "Max_iter       250.0000\n",
      "Max_restart    100.0000\n",
      "User_time      921.4529\n",
      "System_time      1.0327\n",
      "Run_Time       922.4856\n",
      "CPU_usage_%     98.0800\n",
      "Solved           0.0000\n",
      "dtype: float64 \n",
      "\n",
      "\n",
      "{i} HC_side          1.0000\n",
      "Max_iter       250.0000\n",
      "Max_restart    250.0000\n",
      "User_time       12.6375\n",
      "System_time      0.3116\n",
      "Run_Time        12.9491\n",
      "CPU_usage_%     97.9300\n",
      "Solved           1.0000\n",
      "dtype: float64 \n",
      "\n",
      "\n",
      "{i} HC_side           0.0000\n",
      "Max_iter        250.0000\n",
      "Max_restart     250.0000\n",
      "User_time      1238.0298\n",
      "System_time       1.0798\n",
      "Run_Time       1239.1096\n",
      "CPU_usage_%      98.8400\n",
      "Solved            0.0000\n",
      "dtype: float64 \n",
      "\n",
      "\n",
      "{i} HC_side          1.0000\n",
      "Max_iter       500.0000\n",
      "Max_restart     10.0000\n",
      "User_time       16.5419\n",
      "System_time      0.3248\n",
      "Run_Time        16.8667\n",
      "CPU_usage_%     97.9400\n",
      "Solved           1.0000\n",
      "dtype: float64 \n",
      "\n",
      "\n",
      "{i} HC_side          0.0000\n",
      "Max_iter       500.0000\n",
      "Max_restart     10.0000\n",
      "User_time      673.6339\n",
      "System_time      0.8064\n",
      "Run_Time       674.4403\n",
      "CPU_usage_%     98.4300\n",
      "Solved           0.0000\n",
      "dtype: float64 \n",
      "\n",
      "\n",
      "{i} HC_side          1.0000\n",
      "Max_iter       500.0000\n",
      "Max_restart    100.0000\n",
      "User_time       16.8367\n",
      "System_time      0.3175\n",
      "Run_Time        17.1542\n",
      "CPU_usage_%     98.0100\n",
      "Solved           1.0000\n",
      "dtype: float64 \n",
      "\n",
      "\n",
      "{i} HC_side           0.0000\n",
      "Max_iter        500.0000\n",
      "Max_restart     100.0000\n",
      "User_time      1404.3469\n",
      "System_time       1.1619\n",
      "Run_Time       1405.5088\n",
      "CPU_usage_%      99.1000\n",
      "Solved            0.0000\n",
      "dtype: float64 \n",
      "\n",
      "\n",
      "{i} HC_side          1.0000\n",
      "Max_iter       500.0000\n",
      "Max_restart    250.0000\n",
      "User_time       93.3548\n",
      "System_time      0.3188\n",
      "Run_Time        93.6736\n",
      "CPU_usage_%     97.8900\n",
      "Solved           1.0000\n",
      "dtype: float64 \n",
      "\n",
      "\n",
      "{i} HC_side           0.0000\n",
      "Max_iter        500.0000\n",
      "Max_restart     250.0000\n",
      "User_time      1397.1885\n",
      "System_time       1.2653\n",
      "Run_Time       1398.4538\n",
      "CPU_usage_%      99.7000\n",
      "Solved            0.0000\n",
      "dtype: float64 \n",
      "\n",
      "\n"
     ]
    }
   ],
   "source": [
    "# Getting the mean of all the data from dict for analysis\n",
    "for i in plot_dfs.keys():\n",
    "    print(\"{i}\",plot_dfs[i].mean(),\"\\n\\n\")"
   ]
  },
  {
   "cell_type": "code",
   "execution_count": 19,
   "metadata": {},
   "outputs": [],
   "source": [
    "#It is inferred that none of the runs got solved where the side movement was not allowed\n",
    "#The following means and medians based on side movements is used to confirm it"
   ]
  },
  {
   "cell_type": "code",
   "execution_count": 20,
   "metadata": {},
   "outputs": [
    {
     "data": {
      "text/plain": [
       "HC_side          0.000000\n",
       "Max_iter       283.333333\n",
       "Max_restart    120.000000\n",
       "User_time      827.694656\n",
       "System_time      0.894111\n",
       "Run_Time       828.588767\n",
       "CPU_usage_%     98.596667\n",
       "Solved           0.000000\n",
       "dtype: float64"
      ]
     },
     "execution_count": 20,
     "metadata": {},
     "output_type": "execute_result"
    }
   ],
   "source": [
    "df.loc[df['HC_side'] == 0].mean()"
   ]
  },
  {
   "cell_type": "code",
   "execution_count": 21,
   "metadata": {},
   "outputs": [
    {
     "data": {
      "text/plain": [
       "HC_side          1.000000\n",
       "Max_iter       283.333333\n",
       "Max_restart    120.000000\n",
       "User_time       29.694311\n",
       "System_time      0.313456\n",
       "Run_Time        30.007767\n",
       "CPU_usage_%     97.852222\n",
       "Solved           1.000000\n",
       "dtype: float64"
      ]
     },
     "execution_count": 21,
     "metadata": {},
     "output_type": "execute_result"
    }
   ],
   "source": [
    "df.loc[df['HC_side'] == 1].mean()"
   ]
  },
  {
   "cell_type": "code",
   "execution_count": 22,
   "metadata": {},
   "outputs": [
    {
     "data": {
      "text/plain": [
       "HC_side          0.000\n",
       "Max_iter       250.000\n",
       "Max_restart    100.000\n",
       "User_time      857.735\n",
       "System_time      0.920\n",
       "Run_Time       858.830\n",
       "CPU_usage_%     98.000\n",
       "Solved           0.000\n",
       "dtype: float64"
      ]
     },
     "execution_count": 22,
     "metadata": {},
     "output_type": "execute_result"
    }
   ],
   "source": [
    "df.loc[df['HC_side'] == 0].median()"
   ]
  },
  {
   "cell_type": "code",
   "execution_count": 23,
   "metadata": {},
   "outputs": [
    {
     "data": {
      "text/plain": [
       "HC_side          1.00\n",
       "Max_iter       250.00\n",
       "Max_restart    100.00\n",
       "User_time        8.94\n",
       "System_time      0.32\n",
       "Run_Time         9.26\n",
       "CPU_usage_%     98.00\n",
       "Solved           1.00\n",
       "dtype: float64"
      ]
     },
     "execution_count": 23,
     "metadata": {},
     "output_type": "execute_result"
    }
   ],
   "source": [
    "df.loc[df['HC_side'] == 1].median()"
   ]
  },
  {
   "cell_type": "code",
   "execution_count": null,
   "metadata": {},
   "outputs": [],
   "source": []
  }
 ],
 "metadata": {
  "kernelspec": {
   "display_name": "Python 3",
   "language": "python",
   "name": "python3"
  },
  "language_info": {
   "codemirror_mode": {
    "name": "ipython",
    "version": 3
   },
   "file_extension": ".py",
   "mimetype": "text/x-python",
   "name": "python",
   "nbconvert_exporter": "python",
   "pygments_lexer": "ipython3",
   "version": "3.8.5"
  }
 },
 "nbformat": 4,
 "nbformat_minor": 2
}
